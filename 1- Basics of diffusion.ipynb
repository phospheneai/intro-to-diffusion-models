{
 "cells": [
  {
   "cell_type": "markdown",
   "id": "2afe783a-c395-4932-bb5f-078df0125d1a",
   "metadata": {},
   "source": [
    "# Chapter 1 - Basics of Diffusion"
   ]
  },
  {
   "cell_type": "markdown",
   "id": "7100471b-b57e-44fb-9dfb-a27685a3d66f",
   "metadata": {},
   "source": [
    "## What is Diffusion?"
   ]
  },
  {
   "cell_type": "markdown",
   "id": "e4ce4f10-0134-475f-bc39-27bc62b6914b",
   "metadata": {},
   "source": [
    "A diffusion model is a probabilistic generative model that generates data by using a series of noising and denoising process. \n",
    "\n",
    "There are 2 steps here:\n",
    "<ul>\n",
    "<li>Forward process: Add noise to data over a series of timesteps. Basically, take an image, keep adding noise progressively over it to convert the image to pure noise.</li>\n",
    "<li>Reverse process: Take pure noise, remove noise progressively from the noise to create/generate the original data from noise.</li>\n",
    "</ul>\n",
    "\n",
    "The forward process is fairly easy. You just take an image, add gaussian noise to it. The reverse process is hard and that is what we want our model to learn"
   ]
  },
  {
   "cell_type": "markdown",
   "id": "691792bf-a7db-49a8-bdf7-46fa52e208d0",
   "metadata": {},
   "source": [
    "### Forward Process (Noising)"
   ]
  },
  {
   "cell_type": "markdown",
   "id": "cdd964af-3fe2-45dd-b7de-77d9f12cf664",
   "metadata": {},
   "source": [
    "The forward process is all about taking data (images in our case), and adding noise to it. \n",
    "\n",
    "We have our image $x$. We add noise to it over $T$ timesteps, meaning we keep adding noise to the image slowly for $T$ timesteps, allowing our image to slowly, gradually turn into pure noise.\n",
    "\n",
    "We'll start with a single step. A single step here is taking an image, and adding some noise to it. <br>\n",
    "\n",
    "Let's look at an example of adding noise to an image from the MNIST dataset using Pytorch."
   ]
  },
  {
   "cell_type": "code",
   "execution_count": 1,
   "id": "f1e95bc2-a3b3-4581-ae9d-11d33d27c7a2",
   "metadata": {},
   "outputs": [],
   "source": [
    "import torch\n",
    "import numpy as np\n",
    "import matplotlib.pyplot as plt\n",
    "import torchvision\n",
    "import torch.optim as optim\n",
    "import torch.nn as nn\n",
    "import torch.nn.functional as F"
   ]
  },
  {
   "cell_type": "markdown",
   "id": "a0dcfb8a-8b15-49fc-9f76-0f2a43d15c11",
   "metadata": {},
   "source": [
    "Let's load the MNIST dataset from Pytorch's datasets class."
   ]
  },
  {
   "cell_type": "code",
   "execution_count": 2,
   "id": "eb1d0cc5-5775-4af6-940c-902eafc9e98d",
   "metadata": {},
   "outputs": [],
   "source": [
    "transform = torchvision.transforms.Compose([torchvision.transforms.ToTensor()])\n",
    "mnist_data = torchvision.datasets.MNIST(root=\"./data\", train=True, download=True, transform=transform)"
   ]
  },
  {
   "cell_type": "markdown",
   "id": "4ac7f05f-8446-4b57-9a29-ce1a82d9b7a3",
   "metadata": {},
   "source": [
    "We'll now pull out a random image from the Pytorch dataset."
   ]
  },
  {
   "cell_type": "code",
   "execution_count": 3,
   "id": "882346df-0cd6-4c48-b2ca-d237eef087ac",
   "metadata": {},
   "outputs": [
    {
     "data": {
      "text/plain": [
       "<matplotlib.image.AxesImage at 0x73d16a7e8a10>"
      ]
     },
     "execution_count": 3,
     "metadata": {},
     "output_type": "execute_result"
    },
    {
     "data": {
      "image/png": "[encoded data removed]",
      "text/plain": [
       "<Figure size 640x480 with 1 Axes>"
      ]
     },
     "metadata": {},
     "output_type": "display_data"
    }
   ],
   "source": [
    "image = mnist_data[0][0]  # Take the first image (shape: [1, 28, 28])\n",
    "plt.imshow(image.squeeze(0), cmap='gray') #tensor.squeeze converts the image from a shape of [1, 28, 28] to [28, 28]"
   ]
  },
  {
   "cell_type": "markdown",
   "id": "2592ed52-ba82-45bf-a56d-442d2041ea64",
   "metadata": {},
   "source": [
    "Now finally, let's generate some noise and add it to the image."
   ]
  },
  {
   "cell_type": "code",
   "execution_count": 4,
   "id": "f5322e7c-50c2-4dc3-903c-04a474989a6d",
   "metadata": {},
   "outputs": [
    {
     "data": {
      "text/plain": [
       "<matplotlib.image.AxesImage at 0x73d1679bb050>"
      ]
     },
     "execution_count": 4,
     "metadata": {},
     "output_type": "execute_result"
    },
    {
     "data": {
      "image/png": "[encoded data removed]",
      "text/plain": [
       "<Figure size 640x480 with 1 Axes>"
      ]
     },
     "metadata": {},
     "output_type": "display_data"
    }
   ],
   "source": [
    "noise = torch.randn_like(image) * 0.1\n",
    "noisy_image = image + noise\n",
    "plt.imshow(noisy_image.squeeze(0))"
   ]
  },
  {
   "cell_type": "markdown",
   "id": "b04f0b67-ac9a-4a63-8d88-a0bf1332b100",
   "metadata": {},
   "source": [
    "Let's formalize this. \n",
    "\n",
    "We have $x_0$ which is our initial original image. $x_1$ is the image we get by adding noise to $x_0$. $x_2$ is the image we get by adding noise to $x_1$, and so on. We can represent the image we get after adding noise $t$ times to $x_0$ progressively as $x_t$. \n",
    "\n",
    "So, effectively, $x_t$ is just $x_{t-1}$ minus some noise. Let's put it a bit formally: \n",
    "$$x_t = x_{t-1} + \\epsilon$$ \n",
    "$$\\epsilon \\sim \\mathcal{N}(0, I)$$\n",
    "\n",
    "In plain English, the first equation tells us that $x_t$ is just some noise added to $x_{t-1}$. The second equation is just indicating that $\\epsilon$ is just a noise that we sample from a normal distribution. The 0 represents the mean, and the $I$ is the covariance matrix with 1s on the diagonal indicating that the noise added to each pixel is independent of each other.  "
   ]
  },
  {
   "cell_type": "markdown",
   "id": "d188b103-0be2-43b5-97a7-dc41dc740408",
   "metadata": {},
   "source": [
    "So, now, let's see in code, how we can add noise to an image progressively over multiple steps. We'll also look at how these images look like after different timesteps. "
   ]
  },
  {
   "cell_type": "code",
   "execution_count": 5,
   "id": "8afefa9e-7ece-4364-b156-9ae8d3b27e33",
   "metadata": {},
   "outputs": [],
   "source": [
    "def add_noise_simple(image, T):\n",
    "    \"\"\"\n",
    "    Repeatedly add Gaussian noise to an image over T timesteps.\n",
    "    \"\"\"\n",
    "    noisy_images = []\n",
    "    current_image = image.clone()  # Clone to avoid modifying the original image\n",
    "    for t in range(T):\n",
    "        noise = torch.randn_like(image) * 0.1  # Generate Gaussian noise\n",
    "        current_image += noise  # Add noise to the image\n",
    "        noisy_images.append(torch.clamp(current_image, 0, 1))  # Keep pixel values in [0, 1]\n",
    "    return noisy_images"
   ]
  },
  {
   "cell_type": "code",
   "execution_count": 6,
   "id": "a1e80016-55f0-44e6-b084-d233022b489b",
   "metadata": {},
   "outputs": [
    {
     "data": {
      "image/png": "[encoded data removed]",
      "text/plain": [
       "<Figure size 1200x600 with 6 Axes>"
      ]
     },
     "metadata": {},
     "output_type": "display_data"
    }
   ],
   "source": [
    "T = 100  # Number of timesteps\n",
    "noisy_images = add_noise_simple(image, T)\n",
    "# Visualize original and noisy images at different timesteps\n",
    "timesteps_to_show = [0, 10, 25, 50, 75, T-1]\n",
    "plt.figure(figsize=(12, 6))\n",
    "for i, t in enumerate(timesteps_to_show):\n",
    "    plt.subplot(1, len(timesteps_to_show), i + 1)\n",
    "    plt.imshow(noisy_images[t].squeeze().numpy(), cmap='gray')\n",
    "    plt.title(f\"t={t}\")\n",
    "    plt.axis('off')\n",
    "plt.tight_layout()\n",
    "plt.show()"
   ]
  },
  {
   "cell_type": "markdown",
   "id": "b9b570a6-06dc-4a70-b732-54b48a2262f9",
   "metadata": {},
   "source": [
    "So, that was pretty straight forward. We take an image, generate some gaussian noise, add it to an image, generate a new noisy image which still represents the original image, but a bit more noisy. Then, we take the noisy image, add noise to it again make it more noisy. \n",
    "\n",
    "We iteratively do this for $T$ timesteps, eventually getting to a point where at timestep $T$ (in the above example it is 100), the resultant image is just pure noise, one that looks completely irrelevant to the original image. "
   ]
  },
  {
   "cell_type": "markdown",
   "id": "d612f4dc-f22f-4b65-a8ed-df8d9df31f15",
   "metadata": {},
   "source": [
    "There are a few issues with the above logic. <br>\n",
    "\n",
    "One, we can see that by the time we get to the 75th image, we almost completely lose the structure. We don't want that to happen. We want to gradually remove the noise because we also want it easier for the model to understand how much noise has been added. So, we would like to add very very little noise for a large number of timesteps, like 1000.\n",
    "\n",
    "The other issue is that everytime we want to calculate the noise added at Timestep $t$, we have to iterate $t$ times. It would be more convenient to just have a simple formula to calculate it in a single step i.e, go from $x_0$, to $x_t$ in one step directly. We'll first start with solving this problem first, before we get into solving the problem of gradually adding noise. \n",
    "\n",
    "To get to this, we need to make slight modifications into how we approach this. "
   ]
  },
  {
   "cell_type": "markdown",
   "id": "de38a032-7481-43aa-a4a6-f9dbe85f456a",
   "metadata": {},
   "source": [
    "Let's get a bit formal to understand this. "
   ]
  },
  {
   "cell_type": "markdown",
   "id": "453320ad-22df-4f43-a850-86c0a6eec0b0",
   "metadata": {},
   "source": [
    "Now, we'll start formalizing the process of how we go from $x_{t-1}$ to $x_t$. Look at the following equation: $$x_t = \\sqrt{{\\alpha}_t} \\, x_{t-1} + \\sqrt{1 - {\\alpha}_t} \\, \\epsilon$$\n",
    "where, <br>\n",
    "<ul>\n",
    "    <li>${\\alpha}_t$ controls how much portion of the previous image $x_{t-1}$ we retain </li>\n",
    "    <li>$(1 - {\\alpha}_t)$ tells how much of the sampled noise is taken. So, effectively, we are controlling how much of the original image we are retaining and how much of the noise we are taking into account when generated $x_t$. </li>\n",
    "</ul>\n"
   ]
  },
  {
   "cell_type": "markdown",
   "id": "5f1ddb14-d910-4266-9ea3-10a51a3e38a2",
   "metadata": {},
   "source": [
    "So, let's break it down into plain English. Also let's ignore the square roots for now (I'll explain why we add that later). Let's look at the formula without square roots: $$x_t = {\\alpha}_t \\, x_{t-1} + 1 - {\\alpha}_t \\, \\epsilon$$ <br>\n",
    "<br>\n",
    "${\\alpha}_t$ is a number between 0 and 1. At $t=0$, ${\\alpha}_0 = 1$."
   ]
  },
  {
   "cell_type": "markdown",
   "id": "b9594929-9f8c-45fc-ab4a-1f4289003077",
   "metadata": {},
   "source": [
    "So let's say in the first timestep, we want to retain 99% of the original image ($x_0$) and only want 1% of it to have noise, then we'll set ${\\alpha}_1 = 0.99$\n",
    "\n",
    "Let's look at this works with the above formula. <br>\n",
    "\n",
    "So at t=1, we will set ${\\alpha}_1 = 0.99$. In that case $1 - {\\alpha}_1$ will be 0.01. Substituting those two terms in the above equation for $x_t$, in our case then, \n",
    "\n",
    "$$x_1 = {\\alpha}_1 \\, x_{0} + ({1 - {\\alpha}_1}) \\, \\epsilon$$ <br> $$x_1 = 0.99 * x_{0} + (1-0.99) * \\epsilon$$ <br> $$x_1 = x_{t-1} + 0.01 * \\epsilon$$\n",
    "\n",
    "The above equation points that we will retain 99% of the original image, and add 1% of the generated noise to the original image, to create a slightly noisy image. \n"
   ]
  },
  {
   "cell_type": "markdown",
   "id": "4b020cd2-72c2-4370-9b78-d6b7f1cffdc3",
   "metadata": {},
   "source": [
    "Let's look at this as code"
   ]
  },
  {
   "cell_type": "code",
   "execution_count": 7,
   "id": "3477d55e-ffbc-40e5-852e-2569743aaa08",
   "metadata": {},
   "outputs": [
    {
     "data": {
      "text/plain": [
       "<matplotlib.image.AxesImage at 0x73d1665d72f0>"
      ]
     },
     "execution_count": 7,
     "metadata": {},
     "output_type": "execute_result"
    },
    {
     "data": {
      "image/png": "[encoded data removed]",
      "text/plain": [
       "<Figure size 640x480 with 1 Axes>"
      ]
     },
     "metadata": {},
     "output_type": "display_data"
    }
   ],
   "source": [
    "image = mnist_data[15][0]  # Take the first image (shape: [1, 28, 28])\n",
    "plt.imshow(image.squeeze(0), cmap='gray') #tensor.squeeze converts the image from a shape of [1, 28, 28] to [28, 28]"
   ]
  },
  {
   "cell_type": "markdown",
   "id": "e083ee84-0d16-453e-bd08-6cf249809348",
   "metadata": {},
   "source": [
    "We'll define a function that takes in the image and a value for alpha and calculates a resulting image accordingly. "
   ]
  },
  {
   "cell_type": "code",
   "execution_count": 8,
   "id": "7f867acb-fc31-4909-9ab6-263250e4ff0b",
   "metadata": {},
   "outputs": [],
   "source": [
    "def add_noise_with_alpha(image, alpha):\n",
    "    noise = torch.randn_like(image)\n",
    "    noisy_image = (alpha * image) + ((1-alpha) * noise)\n",
    "    return noisy_image"
   ]
  },
  {
   "cell_type": "markdown",
   "id": "89de84a0-c187-417e-bbc3-5df675c6bf44",
   "metadata": {},
   "source": [
    "In this case, let's have ${\\alpha}_t$ as 0.9, meaning we want to retain 90% of the original image, and the rest will be noise. "
   ]
  },
  {
   "cell_type": "code",
   "execution_count": 9,
   "id": "1ca941fb-56d6-4adf-a70b-efc44ef91ea7",
   "metadata": {},
   "outputs": [
    {
     "data": {
      "text/plain": [
       "<matplotlib.image.AxesImage at 0x73d16651d6a0>"
      ]
     },
     "execution_count": 9,
     "metadata": {},
     "output_type": "execute_result"
    },
    {
     "data": {
      "image/png": "[encoded data removed]",
      "text/plain": [
       "<Figure size 640x480 with 1 Axes>"
      ]
     },
     "metadata": {},
     "output_type": "display_data"
    }
   ],
   "source": [
    "noisy_image = add_noise_with_alpha(image, alpha=0.9)\n",
    "plt.imshow(noisy_image.squeeze(0), cmap='gray')"
   ]
  },
  {
   "cell_type": "markdown",
   "id": "e71dc33c-df1c-4619-8013-9ecef1e11fae",
   "metadata": {},
   "source": [
    "As mentioned before, when $t=1$, ${\\alpha}_t$ will be close to 1, so when you multiply ${\\alpha}_0$ with $x_0$, then the resultant $x_1$ remains the same, or nearly the same as $x_0$. <br>\n",
    "Also, when $t=1$, $(1 - \\bar{\\alpha}_t)$ will be a very very low value, meaning when it is multiplied with the noise $\\epsilon$, the value of it will be very very low that no noise or very little noise will be added. As a consequence, most of the image will be retained. "
   ]
  },
  {
   "cell_type": "markdown",
   "id": "12a6fb00-1b2b-4cec-b152-e48f21c5e69d",
   "metadata": {},
   "source": [
    "So, do this iteratively, we can set a constant ${\\alpha}_t$. Maybe we can set it at 0.99. So, at each step, we set the ${\\alpha}_t$ at 0.99. \n",
    "\n",
    "For let's do this for three steps. \n",
    "\n",
    "$$x_1 = (0.99 * x_0) + (0.01 * \\epsilon)$$ \n",
    "\n",
    "Then, x_2 will be dependent on $x_1$ and the same $\\alpha$. Same goes for $x_3$.\n",
    "\n",
    "$$x_2 = (0.99 * x_1) + (0.01 * \\epsilon)$$\n",
    "$$x_3 = (0.99 * x_2) + (0.01 * \\epsilon)$$\n",
    "$$x_4 = (0.99 * x_3) + (0.01 * \\epsilon)$$"
   ]
  },
  {
   "cell_type": "markdown",
   "id": "385a6043-e70c-4e8c-a588-45522847de5a",
   "metadata": {},
   "source": [
    "Let look at this as code."
   ]
  },
  {
   "cell_type": "code",
   "execution_count": 10,
   "id": "47b89813-a2ad-4089-b9db-5d9ce9b45d9a",
   "metadata": {},
   "outputs": [
    {
     "name": "stdout",
     "output_type": "stream",
     "text": [
      "Generating x_1\n",
      "Generating x_2\n",
      "Generating x_3\n",
      "Generating x_4\n"
     ]
    }
   ],
   "source": [
    "x_0 = mnist_data[15][0]\n",
    "noisy_images = [x_0]\n",
    "current_image = x_0\n",
    "for i in range(1, 5):\n",
    "    print(f'Generating x_{i}')\n",
    "    current_image = add_noise_with_alpha(current_image, alpha=0.99)\n",
    "    noisy_images.append(current_image)\n"
   ]
  },
  {
   "cell_type": "code",
   "execution_count": 11,
   "id": "fa2345eb-8d67-4117-8a5b-02519a97f2df",
   "metadata": {},
   "outputs": [
    {
     "data": {
      "image/png": "[encoded data removed]",
      "text/plain": [
       "<Figure size 1200x500 with 5 Axes>"
      ]
     },
     "metadata": {},
     "output_type": "display_data"
    }
   ],
   "source": [
    "plt.figure(figsize=(12, 5))\n",
    "timesteps_to_show = [0, 1, 2, 3, 4]\n",
    "for i, t in enumerate(timesteps_to_show):\n",
    "    plt.subplot(1, len(timesteps_to_show), i + 1)\n",
    "    plt.imshow(noisy_images[t].squeeze().numpy(), cmap='gray')\n",
    "    plt.title(f\"t={t}\")\n",
    "    plt.axis('off')\n",
    "plt.tight_layout()\n",
    "plt.show()"
   ]
  },
  {
   "cell_type": "code",
   "execution_count": null,
   "id": "06c346db-f364-4d68-a3cc-1bf2d1ae6147",
   "metadata": {},
   "outputs": [],
   "source": []
  },
  {
   "cell_type": "markdown",
   "id": "ee0c46cd-eb93-43ad-ac76-a5bbe72b5b0a",
   "metadata": {},
   "source": [
    "Now, let's go and see how to go from $x_0$ to $x_t$, let's assume $x_2$. \n",
    "\n",
    "Let's take our previous example and go step by step from $x_0$ to $x_2$.\n",
    "$$\\alpha = 0.99$$\n",
    "$$x_1 = (0.99 * x_0) + (0.01 * \\epsilon)$$ \n",
    "$$x_2 = (0.99 * x_1) + (0.01 * \\epsilon)$$\n",
    "\n",
    "Let's substitute the equation of $x_1$ in $x_2$. \n",
    "\n",
    "$$x_2 = (0.99 * (0.99 * x_0)) + (0.99 * (0.99 * \\epsilon)$$ \n",
    "$$x_2 = (0.99^2 * x_0) + (0.99^2 * \\epsilon)$$\n",
    "$$x_2 = ({\\alpha}^2 * x_0) + ({\\alpha}^2 * \\epsilon)$$\n",
    "\n",
    "This gives us one thing. If we want to calculate $x_2$, we multiply $\\alpha$ twice with itself. For $x_3$ it'll be ${\\alpha}^3$ and so on. "
   ]
  },
  {
   "cell_type": "markdown",
   "id": "fe896268-124f-4a28-a127-b18274f2e5d2",
   "metadata": {},
   "source": [
    "So, let's introduce $\\bar{\\alpha}_t$.\n",
    "\n",
    "$$\\bar{\\alpha}_t = \\prod_{i=1}^{t} \\alpha_i$$\n",
    "\n",
    "So, for $t=2$,\n",
    "$$\\bar{\\alpha}_2 = \\prod_{i=1}^{2} \\alpha_i$$\n",
    "$$\\bar{\\alpha}_t = \\alpha_1 * \\alpha_2$$\n",
    "And since in our case, we can constant alpha, \n",
    "$$\\bar{\\alpha}_t = \\alpha^2$$\n",
    "\n",
    "Let's define a equation that uses this to go from $x_0$ to $x_t$,\n",
    "$$x_t = {\\bar{\\alpha}_t} \\, x_0 + {1 - \\bar{\\alpha}_t} \\, \\epsilon$$\n",
    "\n",
    "So, if $t=2$, then, \n",
    "$$x_2 = {\\bar{\\alpha}_2} \\, x_0 + {1 - \\bar{\\alpha}_2} \\, \\epsilon$$\n",
    "$$x_2 = {\\alpha^2} \\, x_0 + {1 - {\\alpha}^2} \\, \\epsilon$$\n"
   ]
  },
  {
   "cell_type": "markdown",
   "id": "a9bf2a05-1804-41ca-a11b-9a22d3a0450f",
   "metadata": {},
   "source": [
    "There you go. So, we now have a simple formula that allows us to directly go from $x_0$ to $x_t$. "
   ]
  },
  {
   "cell_type": "code",
   "execution_count": null,
   "id": "67bb24fc-1814-49d5-a8a1-03a212f8bbf6",
   "metadata": {},
   "outputs": [],
   "source": []
  },
  {
   "cell_type": "code",
   "execution_count": null,
   "id": "d09d6554-db9e-4285-8afa-30651e54c9fc",
   "metadata": {},
   "outputs": [],
   "source": []
  },
  {
   "cell_type": "code",
   "execution_count": null,
   "id": "bb38c95d-f3a8-43c2-87ee-f8e99a253ed9",
   "metadata": {},
   "outputs": [],
   "source": []
  },
  {
   "cell_type": "code",
   "execution_count": null,
   "id": "b0aaec57-bc10-4333-a9ba-3a3a24263a2f",
   "metadata": {},
   "outputs": [],
   "source": []
  },
  {
   "cell_type": "code",
   "execution_count": null,
   "id": "1530c362-9209-4a86-88c2-e7b8d082e698",
   "metadata": {},
   "outputs": [],
   "source": []
  },
  {
   "cell_type": "markdown",
   "id": "d38b12fd-ebce-45cb-866c-52729a88d8d7",
   "metadata": {},
   "source": [
    "\n",
    "Mathematically, $$q(x_t \\mid x_{t-1}) = \\mathcal{N}(x_t; \\alpha_t x_{t-1}, (1-\\alpha_t)\\mathbf{I})$$\n",
    "where, \n",
    "<ul>\n",
    "<li>$x_t$ is the image after adding noise at timestep t</li>\n",
    "<li>$\\alpha_t$ controls how much noise is added to the image at each timestep</li>\n",
    "<li>$\\mathcal{N}$ represents the gaussian distribution</li>\n",
    "<li>$I$ is means the noise added to each pixel is independent of each other</li>\n",
    "    \n",
    "</ul>\n",
    "\n",
    "In plain English, $q(x_t \\mid x_{t-1})$ represents the conditional probability of getting $x_t$ given the image from the previous step, $x_t-1$. In other words how likely is it to get noisy image $x_t$ from the previous image $x_t-1$.\n",
    "\n",
    "But, why do we even need this equation. Can't we simply say $$x_t = x_{t-1}+ {N}$$\n",
    "\n",
    "where, \n",
    "<ul>\n",
    "    <li>$x_t$ is the image after adding noise at timestep t.</li>\n",
    "    <li>${N}$ is the gaussian noise.</li>\n",
    "</ul>\n",
    "\n",
    "This is much more simpler, isn't it? Well it is, and practically that is what we do. But, what $q(x_t \\mid x_{t-1}) = \\mathcal{N}(x_t; \\alpha_t x_{t-1}, (1-\\alpha_t)\\mathbf{I})$ represents is that, we are trying to imply that the image $x_t$ is directly drawn from a random set of images from a probability distribution. \n",
    "\n",
    "Let's try putting the above information in a different way. \n",
    "\n",
    "Let's assume that you have a bunch of images in a folder. All the images in the folder forms a probability distribution. \n",
    "\n",
    "In our case, there are millions of ways to add noise to the image $x_{t-1}$ to get the image $x_t$. So, we can generate a folder containing millions of images by adding various noise sampled from a gaussian distribution to the original image $x_{t_1}$. \n",
    "\n",
    "So, let's arrive at a more intuitive equation. Mathematically, let's assume $\\mathcal{N}$ is the distribution of all possible images that can be formed, which could be billions of images. But, if our starting image is $x_{t-1}$, then there is only a few millions of images from the given distribution. So, mathemtically, $$q(x_t \\mid x_{t-1}) = \\mathcal{N}(x_{t-1};\\mathcal{u}, \\mathcal{sigma})$$ \n",
    "\n",
    "means, the image $x_t$ itself is sampled from a distribution of all images, but its structure is dependent on its previous image $x_t$ and a gaussian noise matrix with mean $\\mathcal{u}$ and variance $\\mathcal{sigma}$.\n",
    "\n",
    "So, what we are trying to represent is that, given that you add a specific noise ${N}$  to $x_{t-1}$, what is the probability of getting the image that you just got, given that there are a million other noisy images you could have generated. \n",
    "\n",
    "This ties back to why we refer to diffusion models as probabilistic models. Each image that we derive in both forward and backward process is taken from a probability distribution."
   ]
  },
  {
   "cell_type": "code",
   "execution_count": null,
   "id": "54c3aad1-9326-4d41-b3b3-4295f9e81ec5",
   "metadata": {},
   "outputs": [],
   "source": []
  }
 ],
 "metadata": {
  "kernelspec": {
   "display_name": "Python 3 (ipykernel)",
   "language": "python",
   "name": "python3"
  },
  "language_info": {
   "codemirror_mode": {
    "name": "ipython",
    "version": 3
   },
   "file_extension": ".py",
   "mimetype": "text/x-python",
   "name": "python",
   "nbconvert_exporter": "python",
   "pygments_lexer": "ipython3",
   "version": "3.12.5"
  }
 },
 "nbformat": 4,
 "nbformat_minor": 5
}
