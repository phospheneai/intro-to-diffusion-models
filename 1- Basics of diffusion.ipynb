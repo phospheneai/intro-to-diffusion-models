{
 "cells": [
  {
   "cell_type": "markdown",
   "id": "2afe783a-c395-4932-bb5f-078df0125d1a",
   "metadata": {},
   "source": [
    "# Chapter 1 - Basics of Diffusion"
   ]
  },
  {
   "cell_type": "markdown",
   "id": "7100471b-b57e-44fb-9dfb-a27685a3d66f",
   "metadata": {},
   "source": [
    "## What is Diffusion?"
   ]
  },
  {
   "cell_type": "markdown",
   "id": "e4ce4f10-0134-475f-bc39-27bc62b6914b",
   "metadata": {},
   "source": [
    "A diffusion model is a probabilistic generative model that generates data by using a series of noising and denoising process. \n",
    "\n",
    "There are 2 steps here:\n",
    "<ul>\n",
    "<li>Forward process: Add noise to data over a series of timesteps. Basically, take an image, keep adding noise progressively over it to convert the image to pure noise.</li>\n",
    "<li>Reverse process: Take pure noise, remove noise progressively from the noise to create/generate the original data from noise.</li>\n",
    "</ul>\n",
    "\n",
    "The forward process is fairly easy. You just take an image, add gaussian noise to it. The reverse process is hard and that is what we want our model to learn"
   ]
  },
  {
   "cell_type": "markdown",
   "id": "691792bf-a7db-49a8-bdf7-46fa52e208d0",
   "metadata": {},
   "source": [
    "### Forward Process (Noising)"
   ]
  },
  {
   "cell_type": "markdown",
   "id": "cdd964af-3fe2-45dd-b7de-77d9f12cf664",
   "metadata": {},
   "source": [
    "The forward process is all about taking data (images in our case), and adding noise to it. \n",
    "\n",
    "We have our image $x$. We add noise to it over $T$ timesteps, meaning we keep adding noise to the image slowly for $T$ timesteps, allowing our image to slowly, gradually turn into pure noise.\n",
    "\n",
    "We'll start with a single step. A single step here is taking an image, and adding some noise to it. <br>\n",
    "\n",
    "Let's look at an example of adding noise to an image from the MNIST dataset using Pytorch."
   ]
  },
  {
   "cell_type": "code",
   "execution_count": 1,
   "id": "f1e95bc2-a3b3-4581-ae9d-11d33d27c7a2",
   "metadata": {},
   "outputs": [],
   "source": [
    "import torch\n",
    "import numpy as np\n",
    "import matplotlib.pyplot as plt\n",
    "import torchvision\n",
    "import torch.optim as optim\n",
    "import torch.nn as nn\n",
    "import torch.nn.functional as F"
   ]
  },
  {
   "cell_type": "markdown",
   "id": "a0dcfb8a-8b15-49fc-9f76-0f2a43d15c11",
   "metadata": {},
   "source": [
    "Let's load the MNIST dataset from Pytorch's datasets class."
   ]
  },
  {
   "cell_type": "code",
   "execution_count": 2,
   "id": "eb1d0cc5-5775-4af6-940c-902eafc9e98d",
   "metadata": {},
   "outputs": [],
   "source": [
    "transform = torchvision.transforms.Compose([torchvision.transforms.ToTensor()])\n",
    "mnist_data = torchvision.datasets.MNIST(root=\"./data\", train=True, download=True, transform=transform)"
   ]
  },
  {
   "cell_type": "markdown",
   "id": "4ac7f05f-8446-4b57-9a29-ce1a82d9b7a3",
   "metadata": {},
   "source": [
    "We'll now pull out a random image from the Pytorch dataset."
   ]
  },
  {
   "cell_type": "code",
   "execution_count": 3,
   "id": "882346df-0cd6-4c48-b2ca-d237eef087ac",
   "metadata": {},
   "outputs": [
    {
     "data": {
      "text/plain": [
       "<matplotlib.image.AxesImage at 0x7e4f991df650>"
      ]
     },
     "execution_count": 3,
     "metadata": {},
     "output_type": "execute_result"
    },
    {
     "data": {
      "image/png": "[encoded data removed]",
      "text/plain": [
       "<Figure size 640x480 with 1 Axes>"
      ]
     },
     "metadata": {},
     "output_type": "display_data"
    }
   ],
   "source": [
    "image = mnist_data[0][0]  # Take the first image (shape: [1, 28, 28])\n",
    "plt.imshow(image.squeeze(0)) #tensor.squeeze converts the image from a shape of [1, 28, 28] to [28, 28]"
   ]
  },
  {
   "cell_type": "markdown",
   "id": "2592ed52-ba82-45bf-a56d-442d2041ea64",
   "metadata": {},
   "source": [
    "Now finally, let's generate some noise and add it to the image."
   ]
  },
  {
   "cell_type": "code",
   "execution_count": 4,
   "id": "f5322e7c-50c2-4dc3-903c-04a474989a6d",
   "metadata": {},
   "outputs": [
    {
     "data": {
      "text/plain": [
       "<matplotlib.image.AxesImage at 0x7e4f98772b70>"
      ]
     },
     "execution_count": 4,
     "metadata": {},
     "output_type": "execute_result"
    },
    {
     "data": {
      "image/png": "[encoded data removed]",
      "text/plain": [
       "<Figure size 640x480 with 1 Axes>"
      ]
     },
     "metadata": {},
     "output_type": "display_data"
    }
   ],
   "source": [
    "noise = torch.randn_like(image) * 0.1\n",
    "noisy_image = image + noise\n",
    "plt.imshow(noisy_image.squeeze(0))"
   ]
  },
  {
   "cell_type": "markdown",
   "id": "b04f0b67-ac9a-4a63-8d88-a0bf1332b100",
   "metadata": {},
   "source": [
    "Let's formalize this. \n",
    "\n",
    "We have $x_0$ which is our initial original image. $x_1$ is the image we get by adding noise to $x_0$. $x_2$ is the image we get by adding noise to $x_1$, and so on. We can represent the image we get after adding noise $t$ times to $x_0$ progressively as $x_t$. \n",
    "\n",
    "So, effectively, $x_t$ is just $x_{t-1}$ minus some noise. Let's put it a bit formally: \n",
    "$$x_t = x_{t-1} + \\epsilon$$ \n",
    "$$\\epsilon \\sim \\mathcal{N}(0, I)$$\n",
    "\n",
    "In plain English, the first equation tells us that $x_t$ is just some noise added to $x_{t-1}$. The second equation is just indicating that $\\epsilon$ is just a noise that we sample from a normal distribution. The 0 represents the mean, and the $I$ is the covariance matrix with 1s on the diagonal indicating that the noise added to each pixel is independent of each other.  "
   ]
  },
  {
   "cell_type": "markdown",
   "id": "d188b103-0be2-43b5-97a7-dc41dc740408",
   "metadata": {},
   "source": [
    "So, now, let's see in code, how we can add noise to an image progressively over multiple steps. We'll also look at how these images look like after different timesteps. "
   ]
  },
  {
   "cell_type": "code",
   "execution_count": 5,
   "id": "8afefa9e-7ece-4364-b156-9ae8d3b27e33",
   "metadata": {},
   "outputs": [],
   "source": [
    "def add_noise_simple(image, T):\n",
    "    \"\"\"\n",
    "    Repeatedly add Gaussian noise to an image over T timesteps.\n",
    "    \"\"\"\n",
    "    noisy_images = []\n",
    "    current_image = image.clone()  # Clone to avoid modifying the original image\n",
    "    for t in range(T):\n",
    "        noise = torch.randn_like(image) * 0.1  # Generate Gaussian noise\n",
    "        current_image += noise  # Add noise to the image\n",
    "        noisy_images.append(torch.clamp(current_image, 0, 1))  # Keep pixel values in [0, 1]\n",
    "    return noisy_images"
   ]
  },
  {
   "cell_type": "code",
   "execution_count": 6,
   "id": "a1e80016-55f0-44e6-b084-d233022b489b",
   "metadata": {},
   "outputs": [
    {
     "data": {
      "image/png": "[encoded data removed]",
      "text/plain": [
       "<Figure size 1200x600 with 6 Axes>"
      ]
     },
     "metadata": {},
     "output_type": "display_data"
    }
   ],
   "source": [
    "T = 100  # Number of timesteps\n",
    "noisy_images = add_noise_simple(image, T)\n",
    "# Visualize original and noisy images at different timesteps\n",
    "timesteps_to_show = [0, 10, 25, 50, 75, T-1]\n",
    "plt.figure(figsize=(12, 6))\n",
    "for i, t in enumerate(timesteps_to_show):\n",
    "    plt.subplot(1, len(timesteps_to_show), i + 1)\n",
    "    plt.imshow(noisy_images[t].squeeze().numpy(), cmap='gray')\n",
    "    plt.title(f\"t={t}\")\n",
    "    plt.axis('off')\n",
    "plt.tight_layout()\n",
    "plt.show()"
   ]
  },
  {
   "cell_type": "markdown",
   "id": "b9b570a6-06dc-4a70-b732-54b48a2262f9",
   "metadata": {},
   "source": [
    "So, that was pretty straight forward. We take an image, generate some gaussian noise, add it to an image, generate a new noisy image which still represents the original image, but a bit more noisy. Then, we take the noisy image, add noise to it again make it more noisy. \n",
    "\n",
    "We iteratively do this for $T$ timesteps, eventually getting to a point where at timestep $T$ (in the above example it is 100), the resultant image is just pure noise, one that looks completely irrelevant to the original image. "
   ]
  },
  {
   "cell_type": "markdown",
   "id": "d612f4dc-f22f-4b65-a8ed-df8d9df31f15",
   "metadata": {},
   "source": [
    "There are a few issues with the above logic. One, we can see that by the time we get to the 75th image, we almost completely lose the structure. We don't want that to happen. We want to gradually remove the noise because we also want it easier for the model to understand how much noise has been added. So, we would like to add very very little noise for a large number of timesteps, like 1000.\n",
    "\n",
    "The other issue is that everytime we want to calculate the noise added at Timestep $t$, we have to iterate $t$ times. It would be more convenient to just have a simple formula to calculate it in a single step i.e, go from $x_0$, to $x_t$ in one step directly. We'll first start with solving this problem first, before we get into solving the problem of gradually adding noise. "
   ]
  },
  {
   "cell_type": "markdown",
   "id": "de38a032-7481-43aa-a4a6-f9dbe85f456a",
   "metadata": {},
   "source": [
    "Let's get a bit formal to understand this. "
   ]
  },
  {
   "cell_type": "markdown",
   "id": "453320ad-22df-4f43-a850-86c0a6eec0b0",
   "metadata": {},
   "source": [
    "Now, let's solve the second problem of calculating $x_t$ in a single step instead of an iterative step. Look at the following equation: $$x_t = \\sqrt{{\\alpha}_t} \\, x_{t-1} + \\sqrt{1 - {\\alpha}_t} \\, \\epsilon$$\n"
   ]
  },
  {
   "cell_type": "markdown",
   "id": "4717f576-fb1b-439b-91e9-776e1d840a83",
   "metadata": {},
   "source": [
    "where, <br>\n",
    "<ul>\n",
    "    <li>${\\alpha}_t$ controls how much portion of the original image $x_{t-1}$ we retain and $1 - {\\alpha}_t$ tells how much of the sampled noise is taken. So, effectively, we are controlling how much of the original image we are retaining and how much of the noise we are taking into account when generated $x_t$. </li>\n",
    "</ul>\n",
    "So, let's break it down into plain English. Also let's ignore the square roots for now (I'll explain why we add that later). Let's look at the formula without square roots: $$x_t = {\\alpha}_t \\, x_{t-1} + 1 - {\\alpha}_t \\, \\epsilon$$ <br>\n",
    "<br>\n",
    "${\\alpha}_t$ is a number between 0 and 1. At $t=0$, ${\\alpha}_0 = 1$. As $t$ increases, ${\\alpha}_t$ decreases towards 0. So at $t=T$, ${\\alpha}_t$ will be close to or equal to 0.\n",
    "\n",
    "<br> So let's say in the first timestep, we want to retain 99% of the original image ($x_0$) and only want 1% of it to have noise, then we'll set ${\\alpha}_1 = 0.99$\n",
    "\n",
    "Let's look at this works with the above formula. <br>\n",
    "\n",
    "So at t=1, we want ${\\alpha}_t = 0.99$. In that case $1 - {\\alpha}_t$ will be 0.01. Substituting in the above equation for $x_t$, in our case then, \n",
    "\n",
    "$$x_1 = {\\alpha}_1 \\, x_{0} + ({1 - {\\alpha}_1}) \\, \\epsilon$$, <br> $$x_1 = 0.99 * x_{0} + (1-0.99) * \\epsilon$$ <br> $$x_1 = x_{t-1} + 0.01 * \\epsilon$$\n",
    "\n",
    "<br> As mentioned before, when $t=0$, ${\\alpha}_t$ will be 1 or close to 1, so when you multiply with $x_0$ with ${\\alpha}_0$, then the resultant $x_1$ remains the same, or nearly the same as $x_0$. \\\\Also, when $t=0$, $(1 - \\bar{\\alpha}_t)$ will be a very very low value, meaning when it is multiplied with the noise $\\epsilon$, the value of it will be very very low that no noise or very little noise will be added. As a consequence, most of the image will be retained. \n",
    "\n",
    "The above equation points that we will retain 99% of the original image, and add 1% of the generated noise to the original image, to create a slightly noisy image. \n",
    "\n",
    "When $t$ increases, then ${\\alpha}_t$ is closer to 0, meaning when multiplied with $x_{t-1}$, most of its information is lost, and when $(1 - \\bar{\\alpha}_t)$ is multiplied with the noise $\\epsilon$, most of the information from the noise is retained and added.\n",
    "\n",
    "So, now that we have a redefined equation of how we add noise to $x_{t-1}$, we can now look at how we can directly go from $x_0$ to $x_t$. "
   ]
  },
  {
   "cell_type": "markdown",
   "id": "0909f144-d3c2-46e0-9538-c5936f10edce",
   "metadata": {},
   "source": [
    "Look at the following equation: $$x_t = \\sqrt{\\bar{\\alpha}_t} \\, x_0 + \\sqrt{1 - \\bar{\\alpha}_t} \\, \\epsilon$$\n",
    "\n"
   ]
  },
  {
   "cell_type": "markdown",
   "id": "b98362a8-6e0c-472c-a404-08eb2df145f9",
   "metadata": {},
   "source": [
    "where, <br>\n",
    "<ul>\n",
    "    <li>$\\bar{\\alpha}_t$ controls how much portion of the original image $x_0$ we retain and $\\sqrt{1 - \\bar{\\alpha}_t}$ tells how much of the sampled noise is taken</li>\n",
    "</ul>\n",
    "So, let's break it down into plain English. <br>\n",
    "\n",
    "Before getting into $\\bar{\\alpha}_t$, let's first remove the \"bar\" from $\\bar{\\alpha}_t$ and talk about ${\\alpha}_t$. \n",
    "\n",
    "${\\alpha}_t$ is a number between 0 and 1. It starts with 1, meaning ${\\alpha}_0$ is a value close to 1. As $t$ increases, ${\\alpha}_t$ decreases towards 0. When $t=0$, ${\\alpha}_t$ will be 1 or close to 1, so when you multiply with $x_0$, $x_0$ remains the same, or nearly the same. Also, when $t=0$, $(1 - \\bar{\\alpha}_t)$ will be a very very low value, meaning when it is multiplied with the noise $\\epsilon$, the value of it will be very very low that no noise or very little noise will be added. As a consequence, most of the image will be retained. \n",
    "\n",
    "When $t$ increases, then ${\\alpha}_t$ is closer to 0, meaning when multiplied with "
   ]
  },
  {
   "cell_type": "markdown",
   "id": "d38b12fd-ebce-45cb-866c-52729a88d8d7",
   "metadata": {},
   "source": [
    "We'll call the image at timestep $t$ as $x_t$, with $t$ representing the number of times we've added noise to the image. So, the original image is $x_t$ at timestep $t=0$, so the original image will be $x_0$. At $t=T$, the output image ($x_T$) will be pure noise.\n",
    "\n",
    "Mathematically, $$q(x_t \\mid x_{t-1}) = \\mathcal{N}(x_t; \\alpha_t x_{t-1}, (1-\\alpha_t)\\mathbf{I})$$\n",
    "where, \n",
    "<ul>\n",
    "<li>$x_t$ is the image after adding noise at timestep t</li>\n",
    "<li>$\\alpha_t$ controls how much noise is added to the image at each timestep</li>\n",
    "<li>$\\mathcal{N}$ represents the gaussian distribution</li>\n",
    "<li>$I$ is means the noise added to each pixel is independent of each other</li>\n",
    "    \n",
    "</ul>\n",
    "\n",
    "In plain English, $q(x_t \\mid x_{t-1})$ represents the conditional probability of getting $x_t$ given the image from the previous step, $x_t-1$. In other words how likely is it to get noisy image $x_t$ from the previous image $x_t-1$.\n",
    "\n",
    "But, why do we even need this equation. Can't we simply say $$x_t = x_{t-1}+ {N}$$\n",
    "\n",
    "where, \n",
    "<ul>\n",
    "    <li>$x_t$ is the image after adding noise at timestep t.</li>\n",
    "    <li>${N}$ is the gaussian noise.</li>\n",
    "</ul>\n",
    "\n",
    "This is much more simpler, isn't it? Well it is, and practically that is what we do. But, what $q(x_t \\mid x_{t-1}) = \\mathcal{N}(x_t; \\alpha_t x_{t-1}, (1-\\alpha_t)\\mathbf{I})$ represents is that, we are trying to imply that the image $x_t$ is directly drawn from a random set of images from a probability distribution. \n",
    "\n",
    "Let's try putting the above information in a different way. \n",
    "\n",
    "Let's assume that you have a bunch of images in a folder. All the images in the folder forms a probability distribution. \n",
    "\n",
    "In our case, there are millions of ways to add noise to the image $x_{t-1}$ to get the image $x_t$. So, we can generate a folder containing millions of images by adding various noise sampled from a gaussian distribution to the original image $x_{t_1}$. \n",
    "\n",
    "So, let's arrive at a more intuitive equation. Mathematically, let's assume $\\mathcal{N}$ is the distribution of all possible images that can be formed, which could be billions of images. But, if our starting image is $x_{t-1}$, then there is only a few millions of images from the given distribution. So, mathemtically, $$q(x_t \\mid x_{t-1}) = \\mathcal{N}(x_{t-1};\\mathcal{u}, \\mathcal{sigma})$$ \n",
    "\n",
    "means, the image $x_t$ itself is sampled from a distribution of all images, but its structure is dependent on its previous image $x_t$ and a gaussian noise matrix with mean $\\mathcal{u}$ and variance $\\mathcal{sigma}$.\n",
    "\n",
    "So, what we are trying to represent is that, given that you add a specific noise ${N}$  to $x_{t-1}$, what is the probability of getting the image that you just got, given that there are a million other noisy images you could have generated. \n",
    "\n",
    "This ties back to why we refer to diffusion models as probabilistic models. Each image that we derive in both forward and backward process is taken from a probability distribution."
   ]
  },
  {
   "cell_type": "code",
   "execution_count": null,
   "id": "54c3aad1-9326-4d41-b3b3-4295f9e81ec5",
   "metadata": {},
   "outputs": [],
   "source": []
  }
 ],
 "metadata": {
  "kernelspec": {
   "display_name": "Python 3 (ipykernel)",
   "language": "python",
   "name": "python3"
  },
  "language_info": {
   "codemirror_mode": {
    "name": "ipython",
    "version": 3
   },
   "file_extension": ".py",
   "mimetype": "text/x-python",
   "name": "python",
   "nbconvert_exporter": "python",
   "pygments_lexer": "ipython3",
   "version": "3.12.5"
  }
 },
 "nbformat": 4,
 "nbformat_minor": 5
}
